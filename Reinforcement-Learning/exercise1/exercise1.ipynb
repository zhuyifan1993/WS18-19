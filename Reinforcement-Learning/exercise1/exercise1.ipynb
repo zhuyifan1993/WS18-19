{
 "cells": [
  {
   "cell_type": "code",
   "execution_count": 1,
   "metadata": {
    "collapsed": true
   },
   "outputs": [],
   "source": [
    "import numpy as np\n",
    "import matplotlib.pyplot as plt\n",
    "import csv\n",
    "%matplotlib inline"
   ]
  },
  {
   "cell_type": "code",
   "execution_count": 2,
   "metadata": {
    "collapsed": true
   },
   "outputs": [],
   "source": [
    "with open(\"diabetes.txt\") as file:\n",
    "    reader = csv.reader(file, delimiter=' ')\n",
    "    table = np.asarray([row for row in reader], dtype=np.float)\n",
    "X_train = table[:200, :10]\n",
    "Y_train = table[:200, 10]\n",
    "X_test = table[200:, :10]\n",
    "Y_test = table[200:, 10]"
   ]
  },
  {
   "cell_type": "code",
   "execution_count": 7,
   "metadata": {
    "collapsed": true
   },
   "outputs": [],
   "source": [
    "#Feature augmentation(Bias term)\n",
    "X_train = np.insert(X_train, 10, values=1, axis=1)\n",
    "X_test = np.insert(X_test, 10, values=1, axis=1)"
   ]
  },
  {
   "cell_type": "code",
   "execution_count": 22,
   "metadata": {},
   "outputs": [],
   "source": [
    "#No regularization\n",
    "left = np.dot(X_train.T, X_train)\n",
    "right = np.dot(X_train.T, Y_train)\n",
    "w_plain = np.linalg.solve(left, right)"
   ]
  },
  {
   "cell_type": "code",
   "execution_count": 44,
   "metadata": {},
   "outputs": [],
   "source": [
    "#With regularization\n",
    "lamdas = []\n",
    "ws_ridge = []\n",
    "for i in range(-20,11):\n",
    "    lamdas.append(2**i)\n",
    "for j in range(len(lamdas)):\n",
    "    left = np.dot(X_train.T, X_train) + lamdas[j] * np.eye(len(X_train.T))\n",
    "    ws_ridge.append(np.linalg.solve(left, right))"
   ]
  },
  {
   "cell_type": "code",
   "execution_count": 85,
   "metadata": {},
   "outputs": [
    {
     "name": "stdout",
     "output_type": "stream",
     "text": [
      "plain(without regularization) test error:  3129.65437754 \n",
      "ridge:  3129.64930918\n"
     ]
    }
   ],
   "source": [
    "#Evaluation\n",
    "Y_pred_plain = np.dot(X_test, w_plain)\n",
    "test_error_plain = np.mean((Y_pred_plain - Y_test)**2)\n",
    "\n",
    "test_error_ridge = []\n",
    "for i in range(len(ws_ridge)):\n",
    "    Y_pred_ridge = np.dot(ws_ridge[i], X_test.T)\n",
    "    test_error_ridge.append(np.mean((Y_pred_ridge - Y_test)**2))\n",
    "print (\"plain(without regularization) test error: \", test_error_plain, \"\\nridge: \", test_error_ridge[0])"
   ]
  },
  {
   "cell_type": "code",
   "execution_count": 96,
   "metadata": {},
   "outputs": [
    {
     "data": {
      "image/png": "[encoded data removed]",
      "text/plain": [
       "<matplotlib.figure.Figure at 0x22115109630>"
      ]
     },
     "metadata": {},
     "output_type": "display_data"
    }
   ],
   "source": [
    "#Plot\n",
    "plt.figure()    \n",
    "plt.plot(lamdas, test_error_ridge,'-x', c='r')\n",
    "plt.xlabel('$\\lambda$')\n",
    "plt.xscale('log')\n",
    "plt.legend(['test error with different $\\lambda$'])\n",
    "plt.ylabel('MSE')\n",
    "plt.title('Ridge Regression')\n",
    "plt.show()"
   ]
  }
 ],
 "metadata": {
  "kernelspec": {
   "display_name": "Python 3",
   "language": "python",
   "name": "python3"
  },
  "language_info": {
   "codemirror_mode": {
    "name": "ipython",
    "version": 3
   },
   "file_extension": ".py",
   "mimetype": "text/x-python",
   "name": "python",
   "nbconvert_exporter": "python",
   "pygments_lexer": "ipython3",
   "version": "3.6.3"
  }
 },
 "nbformat": 4,
 "nbformat_minor": 2
}
